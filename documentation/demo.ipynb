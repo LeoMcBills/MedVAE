{
 "cells": [
  {
   "cell_type": "code",
   "execution_count": 1,
   "metadata": {},
   "outputs": [],
   "source": [
    "from medvae import MVAE\n",
    "import torch\n",
    "from nilearn.plotting import view_img\n",
    "import numpy as np\n",
    "import nibabel as nib"
   ]
  },
  {
   "cell_type": "markdown",
   "metadata": {},
   "source": [
    "## Download Sample Data"
   ]
  },
  {
   "cell_type": "code",
   "execution_count": null,
   "metadata": {},
   "outputs": [],
   "source": [
    "import gdown\n",
    "\n",
    "# Download some data to play with\n",
    "DEFAULT_DATA_URL = '13dHwCtAt9ou9Ee8PcrzTAGE2WNoEc6SV?usp=share_link'\n",
    "\n",
    "gdown.download_folder(id=DEFAULT_DATA_URL, output=\"data\", quiet=True)\n",
    "\n",
    "print(f'Data downloaded.')"
   ]
  },
  {
   "cell_type": "markdown",
   "metadata": {},
   "source": [
    "## Example with 2D MedVAE (f=16; C=3)"
   ]
  },
  {
   "cell_type": "code",
   "execution_count": null,
   "metadata": {},
   "outputs": [],
   "source": [
    "device = torch.device('cuda:0' if torch.cuda.is_available() else 'cpu')\n",
    "\n",
    "model = MVAE(\n",
    "    model_name='medvae_4_3_2d',\n",
    "    modality='xray',\n",
    ").to(device)\n",
    "model.requires_grad_(False)\n",
    "model.eval()\n",
    "\n",
    "fpath = 'data/mmg_data/TQcBVJediTG8E34ftHnapA.png'\n",
    "\n",
    "# Getting the transform and applying it\n",
    "transform = model.get_transform()\n",
    "img = transform(fpath).unsqueeze(0).to(device)\n",
    "\n",
    "# Getting the latent representation\n",
    "with torch.no_grad():\n",
    "    latent = model(img).cpu().detach().numpy()"
   ]
  },
  {
   "cell_type": "code",
   "execution_count": null,
   "metadata": {},
   "outputs": [],
   "source": [
    "view_img(stat_map_img=nib.Nifti1Image(latent.transpose(1, 2, 0), np.eye(4)), bg_img=False, cmap='gray')"
   ]
  },
  {
   "cell_type": "markdown",
   "metadata": {},
   "source": [
    "## CT Example with 3D MedVAE (f=16; C=1)"
   ]
  },
  {
   "cell_type": "code",
   "execution_count": null,
   "metadata": {},
   "outputs": [],
   "source": [
    "device = torch.device('cuda:0' if torch.cuda.is_available() else 'cpu')\n",
    "\n",
    "model = MVAE(\n",
    "    model_name='medvae_4_1_3d',\n",
    "    modality='CT',\n",
    ").to(device)\n",
    "model.requires_grad_(False)\n",
    "model.eval()\n",
    "\n",
    "fpath = 'data/ct_data/sino_7858_0398.nii.gz'\n",
    "\n",
    "# Apply the model transform -- easiest way\n",
    "img = model.apply_transform(fpath).to(device)\n",
    "\n",
    "# Getting the latent representation\n",
    "with torch.no_grad():\n",
    "    latent = model(img).cpu().detach().numpy()"
   ]
  },
  {
   "cell_type": "code",
   "execution_count": null,
   "metadata": {},
   "outputs": [],
   "source": [
    "view_img(stat_map_img=nib.Nifti1Image(latent, np.eye(4)), bg_img=False, cmap='gray')"
   ]
  },
  {
   "cell_type": "markdown",
   "metadata": {},
   "source": [
    "## MRI Example with 3D MedVAE (f=16; C=1)"
   ]
  },
  {
   "cell_type": "code",
   "execution_count": null,
   "metadata": {},
   "outputs": [],
   "source": [
    "device = torch.device('cuda:0' if torch.cuda.is_available() else 'cpu')\n",
    "\n",
    "model = MVAE(\n",
    "    model_name='medvae_4_1_3d',\n",
    "    modality='MRI',\n",
    ").to(device)\n",
    "model.requires_grad_(False)\n",
    "model.eval()\n",
    "\n",
    "fpath = 'data/mri_data/t1oasis_case_1286.nii.gz'\n",
    "\n",
    "# Apply the model transform -- easiest way\n",
    "img = model.apply_transform(fpath).to(device)\n",
    "\n",
    "# Getting the latent representation\n",
    "with torch.no_grad():\n",
    "    latent = model(img).cpu().detach().numpy()"
   ]
  },
  {
   "cell_type": "code",
   "execution_count": null,
   "metadata": {},
   "outputs": [],
   "source": [
    "view_img(stat_map_img=nib.Nifti1Image(latent, np.eye(4)), bg_img=False, cmap='gray')"
   ]
  }
 ],
 "metadata": {
  "kernelspec": {
   "display_name": "compress",
   "language": "python",
   "name": "python3"
  },
  "language_info": {
   "codemirror_mode": {
    "name": "ipython",
    "version": 3
   },
   "file_extension": ".py",
   "mimetype": "text/x-python",
   "name": "python",
   "nbconvert_exporter": "python",
   "pygments_lexer": "ipython3",
   "version": "3.10.14"
  }
 },
 "nbformat": 4,
 "nbformat_minor": 2
}
